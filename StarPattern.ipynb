{
  "nbformat": 4,
  "nbformat_minor": 0,
  "metadata": {
    "colab": {
      "provenance": [],
      "authorship_tag": "ABX9TyOVTgYqwMT3bs+Gg0WLiT9B",
      "include_colab_link": true
    },
    "kernelspec": {
      "name": "python3",
      "display_name": "Python 3"
    },
    "language_info": {
      "name": "python"
    }
  },
  "cells": [
    {
      "cell_type": "markdown",
      "metadata": {
        "id": "view-in-github",
        "colab_type": "text"
      },
      "source": [
        "<a href=\"https://colab.research.google.com/github/namitapashine/More_Exercises/blob/main/StarPattern.ipynb\" target=\"_parent\"><img src=\"https://colab.research.google.com/assets/colab-badge.svg\" alt=\"Open In Colab\"/></a>"
      ]
    },
    {
      "cell_type": "code",
      "execution_count": 9,
      "metadata": {
        "colab": {
          "base_uri": "https://localhost:8080/"
        },
        "id": "SI59iL6BLno1",
        "outputId": "71e9fc18-9500-4bfd-a769-c52ef87dc3ac"
      },
      "outputs": [
        {
          "output_type": "stream",
          "name": "stdout",
          "text": [
            "Please Enter the rows :3\n",
            "    *\n",
            "   ***\n",
            "  *****\n"
          ]
        }
      ],
      "source": [
        "# printing star pattern\n",
        "row =  int(input(\"Please Enter the rows :\"))\n",
        "for i in range(row):\n",
        "    space =\" \" * (row-i+1)\n",
        "    star = \"*\" * (2*i+1)\n",
        "    print(space+star)"
      ]
    }
  ]
}